{
 "cells": [
  {
   "cell_type": "markdown",
   "id": "6459b437",
   "metadata": {},
   "source": [
    "# Форматирование стандартных таблиц из БД "
   ]
  },
  {
   "cell_type": "code",
   "execution_count": null,
   "id": "f573ddd4",
   "metadata": {},
   "outputs": [],
   "source": [
    "# --- Форматирование таблиц для отчётности --- \n",
    "\n",
    "\n",
    "# ---\n",
    "# Сбрасываем timezones дат из подгруженных таблиц\n",
    "tables_for_report = [\n",
    "    user_session,\n",
    "    users, \n",
    "    user_info, \n",
    "    virtual_accounts, \n",
    "    loans, \n",
    "    loan_payments,\n",
    "    payments,\n",
    "    operations,\n",
    "    score,\n",
    "    equifax_entries,\n",
    "    transactions,\n",
    "    reviews,\n",
    "    loan_investors,\n",
    "    loan_investors_payments\n",
    "]\n",
    "\n",
    "\n",
    "# Цикл сброса timezones\n",
    "for table in tables_for_report: \n",
    "    main_module.functions.time_functions.drop_tz(table)"
   ]
  },
  {
   "cell_type": "code",
   "execution_count": null,
   "id": "afd67d04",
   "metadata": {},
   "outputs": [],
   "source": [
    "# Модификация loans (убираем тестовые заявки) \n",
    "\n",
    "\n",
    "# ---\n",
    "# Выделяем тестовые заявки по двум параметрам: is_test, is_tester == True\n",
    "test_users_ids = users[((users.is_test == True) | (users.is_tester == True)) & (users.id != 32649)].id\n",
    "\n",
    "# Фильтр по тестовым users\n",
    "users = users[~users.id.isin(test_users_ids)]\n",
    "\n",
    "# Фильтр по тестовым user_info\n",
    "user_info = user_info[~user_info.user_id.isin(test_users_ids)]\n",
    "\n",
    "# Фильтр по тестовым user_session\n",
    "user_session = user_session[~user_session.user_id.isin(test_users_ids)]\n",
    "\n",
    "# Фильтр по тестовым virtual_accounts\n",
    "virtual_accounts = virtual_accounts[~virtual_accounts.user_id.isin(test_users_ids)]\n",
    "\n",
    "# Фильтр по тестовым loans\n",
    "loans = loans[~((loans.is_test == True)\n",
    "              | (loans.owner_id.isin(test_users_ids))\n",
    "              | (loans.debtor_id.isin(test_users_ids))\n",
    "              | (loans.investor_id.isin(test_users_ids)))]\n",
    "\n",
    "# Фильтр по тестовым loan_payments\n",
    "loan_payments = loan_payments[~((loan_payments.debtor_id.isin(test_users_ids)) | \n",
    "                              (loan_payments.investor_id.isin(test_users_ids)))]\n",
    "\n",
    "# Фильтр по тестовым payments\n",
    "payments = payments[~((payments.from_id.isin(test_users_ids))\n",
    "                    | (payments.to_id.isin(test_users_ids)))]\n",
    "\n",
    "# Фильтр по тестовым operations\n",
    "operations = operations[(operations.virtual_account_id.isin(virtual_accounts.id))]\n",
    "\n",
    "# Фильтр по тестовым transactions\n",
    "transactions = transactions[~transactions.user_id.isin(test_users_ids)]\n",
    "\n",
    "# Фильтр по тестовым score\n",
    "score = score[~score.user_id.isin(test_users_ids)]\n",
    "\n",
    "\n",
    "\n",
    "# ---\n",
    "# Изменение таблицы, перенос заявок из группы F2F в группу P2P для ID из списка \n",
    "loans.loc[(loans.id.isin([22072, 22494, 23208, 23239, 23357, 24017 ,23999, 24188, 24164, 24320, \n",
    "                          24251, 24241, 24424, 24402, 24388, 24435, 24955, 25926, 26131, 26125, \n",
    "                          26556, 27441, 27431, 27852, 27997, 28270, 28544, 28573, 30503, 30865, \n",
    "                          30862, 30856, 30847, 30837, 30952, 31019, 30999, 31167, 31143, 31225, \n",
    "                          31196, 31185, 31427, 31775, 31757, 31827, 31807, 31793, 31786, 32015, \n",
    "                          32083, 32150, 32174, 32484, 32583, 32560, 32533, 32527, 32518, 32590, \n",
    "                          32893, 33003, 33065, 33204, 33307, 33456, 33400, 33605, 33523, 33679,\n",
    "                          33700, 33909, 33866, 33852])), ['is_collective']] = True\n",
    "\n",
    "\n",
    "\n",
    "# ---\n",
    "# Сортировка таблицы с займами\n",
    "loans = loans.sort_values(by='id', ascending=False)"
   ]
  },
  {
   "cell_type": "markdown",
   "id": "76398f6a",
   "metadata": {},
   "source": [
    "# Генерация новых таблиц для отчётов"
   ]
  },
  {
   "cell_type": "code",
   "execution_count": null,
   "id": "283095e8",
   "metadata": {},
   "outputs": [],
   "source": [
    "# Выделение p2p, f2f и old_debt таблиц\n",
    "\n",
    "# --- \n",
    "# Фильтр по P2P заявкам (полный) - ТОЛЬКО ВСЕ P2P ЗАЯВКИ\n",
    "loans_p2p = loans[loans.is_collective == True]\n",
    "\n",
    "# Удаление заявок 1 310 000\n",
    "loans_p2p = loans_p2p.drop(loans_p2p[loans_p2p.id.isin([56929, 56893, 56889, 56886, 56841, 56794, 56728, 56723, 56718,\n",
    "                                                        56552, 56546, 56304, 56267, 56246, 56242, 56202, 56185, 56147,\n",
    "                                                        56039, 56032, 56031, 56009, 55964, 55936, 55925, 55817, 55813,\n",
    "                                                        55766, 55757, 55662, 55529, 55457, 55442, 55312, 55287, 55267,\n",
    "                                                        55254, 55188, 55061, 54961, 54955, 54893, 54829, 54776, 54750,\n",
    "                                                        54717, 54694, 54693, 54675, 54660])].index)\n",
    "\n",
    "# --- \n",
    "# Фильтр по F2F заявкам (полный) - ТОЛЬКО ВСЕ F2F ЗАЯВКИ\n",
    "loans_f2f = loans[(loans.type == 'new_debt')\n",
    "                  & ((loans.is_collective == False) | (loans.is_collective.isna()))]\n",
    "\n",
    "# --- \n",
    "# Фильтр по LT заявкам (полный) - ТОЛЬКО ВСЕ LT ЗАЯВКИ\n",
    "loans_lt = loans[loans.type == 'old_debt']"
   ]
  },
  {
   "cell_type": "code",
   "execution_count": null,
   "id": "84c774c1",
   "metadata": {},
   "outputs": [],
   "source": [
    "# Выделение таблиц для отчётности\n",
    "user_session_report = user_session\n",
    "users_report, user_info_report, virtual_accounts_report = users, user_info, virtual_accounts\n",
    "loans_report, loans_p2p_report, loans_f2f_report = loans, loans_p2p, loans_f2f\n",
    "loan_payments_report, payments_report, operations_report = loan_payments, payments, operations\n",
    "score_report, equifax_entries_report = score, equifax_entries"
   ]
  },
  {
   "cell_type": "code",
   "execution_count": null,
   "id": "ba7f5f5a",
   "metadata": {},
   "outputs": [],
   "source": [
    "# Создание таблицы investments, как loans но со стороны инвестора\n",
    "kws = ['date_updated','next_payment_date','investor_id_y','type','contract_required','remind_day','owner_id',\n",
    "       'investor_card_for_payments_id','debtor_card_for_payments_id','reminded_date','is_cash','id_y','endless']\n",
    "\n",
    "investments = loan_investors.merge(loans,\n",
    "                                   left_on = 'loan_id',\n",
    "                                   right_on = 'id',\n",
    "                                   how = 'left').drop(kws, axis=1).iloc[:,0:21]\n",
    "\n",
    "\n",
    "investments['commision'] = loan_investors.merge(loans,\n",
    "                                                left_on = 'loan_id',\n",
    "                                                right_on = 'id',\n",
    "                                                how = 'left').drop(kws, axis=1).iloc[:,35]\n",
    "\n",
    "investments['amount_x'] = investments['amount_x'] - investments['amount_x'] / (investments['sum'] + investments['commision']) * investments['commision']\n",
    "investments['total_sum'] *= investments['amount_x'] / investments['sum']\n",
    "investments['month_payment'] *= investments['amount_x'] / investments['sum']\n",
    "investments['amount_left'] *= investments['amount_x'] / investments['sum']\n",
    "investments['amount_paid'] *= investments['amount_x'] / investments['sum']\n",
    "investments['commision'] *= investments['amount_x'] / investments['sum']\n",
    "investments = investments.rename(columns={'id_x':'id','investor_id_x':'investor_id','amount_x':'amount'}).drop('amount_y',axis=1)"
   ]
  },
  {
   "cell_type": "markdown",
   "id": "108a02d6",
   "metadata": {},
   "source": [
    "# Добавление нормализованных столбцов"
   ]
  },
  {
   "cell_type": "code",
   "execution_count": null,
   "id": "c9ae0141",
   "metadata": {},
   "outputs": [],
   "source": [
    "# Сумма займа с учётом комиссии\n",
    "loans_p2p['sum_with_comm'] = loans_p2p['sum'] + loans_p2p['commission']"
   ]
  },
  {
   "cell_type": "code",
   "execution_count": null,
   "id": "eea0526c",
   "metadata": {
    "scrolled": true
   },
   "outputs": [],
   "source": [
    "# Добавляем нормализованную длительность займа в месяцах\n",
    "loans['duration_month'] = loans[['period',\n",
    "                                 'duration']].apply(main_module.functions.time_functions.normalize_duration, axis=1)\n",
    "loans_p2p['duration_month'] = loans_p2p[['period',\n",
    "                                         'duration']].apply(main_module.functions.time_functions.normalize_duration, axis=1)\n",
    "investments['duration_month'] = investments[['period',\n",
    "                                             'duration']].apply(main_module.functions.time_functions.normalize_duration, axis=1)"
   ]
  },
  {
   "cell_type": "code",
   "execution_count": null,
   "id": "b700c6bf",
   "metadata": {},
   "outputs": [],
   "source": [
    "# Перевод ставки по займам в % годовых\n",
    "loans_p2p_report.loc[(loans_p2p_report['rate_type'] == 'yearly'), 'rate_yearly'] = loans_p2p_report['rate'] \n",
    "loans_p2p_report.loc[(loans_p2p_report['rate_type'] == 'monthly'), 'rate_yearly'] = 12 * loans_p2p_report['rate']\n",
    "loans_p2p_report.loc[(loans_p2p_report['rate_type'] == 'daily'), 'rate_yearly'] = 365 * loans_p2p_report['rate']"
   ]
  }
 ],
 "metadata": {
  "kernelspec": {
   "display_name": "Python 3 (ipykernel)",
   "language": "python",
   "name": "python3"
  },
  "language_info": {
   "codemirror_mode": {
    "name": "ipython",
    "version": 3
   },
   "file_extension": ".py",
   "mimetype": "text/x-python",
   "name": "python",
   "nbconvert_exporter": "python",
   "pygments_lexer": "ipython3",
   "version": "3.10.2"
  }
 },
 "nbformat": 4,
 "nbformat_minor": 5
}
