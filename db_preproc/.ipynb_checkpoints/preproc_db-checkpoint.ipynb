{
 "cells": [
  {
   "cell_type": "markdown",
   "id": "005f6494",
   "metadata": {},
   "source": [
    "# Форматирование стандартных таблиц из БД "
   ]
  },
  {
   "cell_type": "code",
   "execution_count": null,
   "id": "65d3ae37",
   "metadata": {},
   "outputs": [],
   "source": [
    "# --- Форматирование таблиц для отчётности --- \n",
    "\n",
    "\n",
    "# ---\n",
    "# Сбрасываем timezones дат из подгруженных таблиц\n",
    "tables_for_report = [\n",
    "    user_session,\n",
    "    users, \n",
    "    user_info, \n",
    "    virtual_accounts, \n",
    "    loans, \n",
    "    loan_payments,\n",
    "    payments,\n",
    "    operations,\n",
    "    score,\n",
    "    equifax_entries,\n",
    "    transactions,\n",
    "    reviews,\n",
    "    investors,\n",
    "    payments_inv,\n",
    "    investments\n",
    "]\n",
    "\n",
    "\n",
    "# Цикл сброса timezones\n",
    "for table in tables_for_report: \n",
    "    drop_tz(table)"
   ]
  },
  {
   "cell_type": "code",
   "execution_count": null,
   "id": "5167fd86",
   "metadata": {},
   "outputs": [],
   "source": [
    "# Модификация loans (убираем тестовые заявки) \n",
    "\n",
    "\n",
    "# ---\n",
    "# Выделяем тестовые заявки по двум параметрам: is_test, is_tester == True\n",
    "test_users_ids = users[((users.is_test == True) | (users.is_tester == True)) & (users.id != 32649)].id\n",
    "\n",
    "# Фильтр по тестовым users\n",
    "users = users[~users.id.isin(test_users_ids)]\n",
    "\n",
    "# Фильтр по тестовым user_info\n",
    "user_info = user_info[~user_info.user_id.isin(test_users_ids)]\n",
    "\n",
    "# Фильтр по тестовым user_session\n",
    "user_session = user_session[~user_session.user_id.isin(test_users_ids)]\n",
    "\n",
    "# Фильтр по тестовым virtual_accounts\n",
    "virtual_accounts = virtual_accounts[~virtual_accounts.user_id.isin(test_users_ids)]\n",
    "\n",
    "# Фильтр по тестовым loans\n",
    "loans = loans[~((loans.is_test == True)\n",
    "              | (loans.owner_id.isin(test_users_ids))\n",
    "              | (loans.debtor_id.isin(test_users_ids))\n",
    "              | (loans.investor_id.isin(test_users_ids)))]\n",
    "\n",
    "# Фильтр по тестовым loan_payments\n",
    "loan_payments = loan_payments[~((loan_payments.debtor_id.isin(test_users_ids)) | \n",
    "                              (loan_payments.investor_id.isin(test_users_ids)))]\n",
    "\n",
    "# Фильтр по тестовым payments\n",
    "payments = payments[~((payments.from_id.isin(test_users_ids))\n",
    "                    | (payments.to_id.isin(test_users_ids)))]\n",
    "\n",
    "# Фильтр по тестовым operations\n",
    "operations = operations[(operations.virtual_account_id.isin(virtual_accounts.id))]\n",
    "\n",
    "# Фильтр по тестовым transactions\n",
    "transactions = transactions[~transactions.user_id.isin(test_users_ids)]\n",
    "\n",
    "# Фильтр по тестовым score\n",
    "score = score[~score.user_id.isin(test_users_ids)]\n",
    "\n",
    "\n",
    "\n",
    "# ---\n",
    "# Изменение таблицы, перенос заявок из группы F2F в группу P2P для ID из списка \n",
    "loans.loc[(loans.id.isin([22072, 22494, 23208, 23239, 23357, 24017 ,23999, 24188, 24164, 24320, \n",
    "                          24251, 24241, 24424, 24402, 24388, 24435, 24955, 25926, 26131, 26125, \n",
    "                          26556, 27441, 27431, 27852, 27997, 28270, 28544, 28573, 30503, 30865, \n",
    "                          30862, 30856, 30847, 30837, 30952, 31019, 30999, 31167, 31143, 31225, \n",
    "                          31196, 31185, 31427, 31775, 31757, 31827, 31807, 31793, 31786, 32015, \n",
    "                          32083, 32150, 32174, 32484, 32583, 32560, 32533, 32527, 32518, 32590, \n",
    "                          32893, 33003, 33065, 33204, 33307, 33456, 33400, 33605, 33523, 33679,\n",
    "                          33700, 33909, 33866, 33852])), ['is_collective']] = True\n",
    "\n",
    "\n",
    "\n",
    "# ---\n",
    "# Сортировка таблицы с займами\n",
    "loans = loans.sort_values(by='id', ascending=False)"
   ]
  },
  {
   "cell_type": "markdown",
   "id": "a407f3b6",
   "metadata": {},
   "source": [
    "# Генерация новых таблиц для отчётов"
   ]
  },
  {
   "cell_type": "code",
   "execution_count": 1,
   "id": "09e20de5",
   "metadata": {},
   "outputs": [
    {
     "ename": "NameError",
     "evalue": "name 'loans' is not defined",
     "output_type": "error",
     "traceback": [
      "\u001b[1;31m---------------------------------------------------------------------------\u001b[0m",
      "\u001b[1;31mNameError\u001b[0m                                 Traceback (most recent call last)",
      "Input \u001b[1;32mIn [1]\u001b[0m, in \u001b[0;36m<module>\u001b[1;34m\u001b[0m\n\u001b[0;32m      1\u001b[0m \u001b[38;5;66;03m# Выделение p2p, f2f и old_debt таблиц\u001b[39;00m\n\u001b[0;32m      2\u001b[0m \n\u001b[0;32m      3\u001b[0m \u001b[38;5;66;03m# --- \u001b[39;00m\n\u001b[0;32m      4\u001b[0m \u001b[38;5;66;03m# Фильтр по P2P заявкам (полный) - ТОЛЬКО ВСЕ P2P ЗАЯВКИ\u001b[39;00m\n\u001b[1;32m----> 5\u001b[0m loans_p2p \u001b[38;5;241m=\u001b[39m \u001b[43mloans\u001b[49m[loans\u001b[38;5;241m.\u001b[39mis_collective \u001b[38;5;241m==\u001b[39m \u001b[38;5;28;01mTrue\u001b[39;00m]\n\u001b[0;32m      7\u001b[0m \u001b[38;5;66;03m# --- \u001b[39;00m\n\u001b[0;32m      8\u001b[0m \u001b[38;5;66;03m# Фильтр по F2F заявкам (полный) - ТОЛЬКО ВСЕ F2F ЗАЯВКИ\u001b[39;00m\n\u001b[0;32m      9\u001b[0m loans_f2f \u001b[38;5;241m=\u001b[39m loans[(loans\u001b[38;5;241m.\u001b[39mtype \u001b[38;5;241m==\u001b[39m \u001b[38;5;124m'\u001b[39m\u001b[38;5;124mnew_debt\u001b[39m\u001b[38;5;124m'\u001b[39m)\n\u001b[0;32m     10\u001b[0m                   \u001b[38;5;241m&\u001b[39m ((loans\u001b[38;5;241m.\u001b[39mis_collective \u001b[38;5;241m==\u001b[39m \u001b[38;5;28;01mFalse\u001b[39;00m) \u001b[38;5;241m|\u001b[39m (loans\u001b[38;5;241m.\u001b[39mis_collective\u001b[38;5;241m.\u001b[39misna()))]\n",
      "\u001b[1;31mNameError\u001b[0m: name 'loans' is not defined"
     ]
    }
   ],
   "source": [
    "# Выделение p2p, f2f и old_debt таблиц\n",
    "\n",
    "# --- \n",
    "# Фильтр по P2P заявкам (полный) - ТОЛЬКО ВСЕ P2P ЗАЯВКИ\n",
    "loans_p2p = loans[loans.is_collective == True]\n",
    "\n",
    "# --- \n",
    "# Фильтр по F2F заявкам (полный) - ТОЛЬКО ВСЕ F2F ЗАЯВКИ\n",
    "loans_f2f = loans[(loans.type == 'new_debt')\n",
    "                  & ((loans.is_collective == False) | (loans.is_collective.isna()))]\n",
    "\n",
    "# --- \n",
    "# Фильтр по LT заявкам (полный) - ТОЛЬКО ВСЕ LT ЗАЯВКИ\n",
    "loans_lt = loans[loans.type == 'old_debt']"
   ]
  },
  {
   "cell_type": "code",
   "execution_count": null,
   "id": "9eebdca3",
   "metadata": {},
   "outputs": [],
   "source": [
    "kws = ['date_updated','next_payment_date','investor_id_y','type','contract_required','remind_day','owner_id',\n",
    "       'investor_card_for_payments_id','debtor_card_for_payments_id','reminded_date','is_cash','id_y','endless']\n",
    "\n",
    "investments = investors.merge(loans,\n",
    "                              left_on = 'loan_id',\n",
    "                              right_on = 'id',\n",
    "                              how = 'left').drop(kws, axis=1).iloc[:,0:21]\n",
    "\n",
    "\n",
    "investments['commision'] = investors.merge(loans,\n",
    "                                           left_on = 'loan_id',\n",
    "                                           right_on = 'id',\n",
    "                                           how = 'left').drop(kws, axis=1).iloc[:,35]\n",
    "\n",
    "investments['amount_x'] = investments['amount_x'] - investments['amount_x'] / (investments['sum'] + investments['commision']) * investments['commision']\n",
    "investments['total_sum'] *= investments['amount_x'] / investments['sum']\n",
    "investments['month_payment'] *= investments['amount_x'] / investments['sum']\n",
    "investments['amount_left'] *= investments['amount_x'] / investments['sum']\n",
    "investments['amount_paid'] *= investments['amount_x'] / investments['sum']\n",
    "investments['commision'] *= investments['amount_x'] / investments['sum']"
   ]
  },
  {
   "cell_type": "markdown",
   "id": "bab1512e",
   "metadata": {},
   "source": [
    "# Добавление нормализованных столбцов"
   ]
  },
  {
   "cell_type": "code",
   "execution_count": null,
   "id": "eeb88ee0",
   "metadata": {},
   "outputs": [],
   "source": [
    "# Сумма займа с учётом комиссии\n",
    "loans_p2p['sum_with_comm'] = loans_p2p['sum'] + loans_p2p['commission']"
   ]
  },
  {
   "cell_type": "code",
   "execution_count": null,
   "id": "03670b54",
   "metadata": {
    "scrolled": true
   },
   "outputs": [],
   "source": [
    "# Добавляем нормализованную длительность займа в месяцах\n",
    "loans['duration_month'] = loans[['period','duration']].apply(normalize_duration, axis=1)\n",
    "loans_p2p['duration_month'] = loans_p2p[['period','duration']].apply(normalize_duration, axis=1)\n",
    "investments['duration_month'] = investments[['period','duration']].apply(normalize_duration, axis=1)"
   ]
  },
  {
   "cell_type": "code",
   "execution_count": null,
   "id": "c89c2f84",
   "metadata": {},
   "outputs": [],
   "source": [
    "# Перевод ставки по займам в % годовых\n",
    "loans_p2p_report.loc[(loans_p2p_report['rate_type'] == 'yearly'), 'rate_yearly'] = loans_p2p_report['rate'] \n",
    "loans_p2p_report.loc[(loans_p2p_report['rate_type'] == 'monthly'), 'rate_yearly'] = 12 * loans_p2p_report['rate']\n",
    "loans_p2p_report.loc[(loans_p2p_report['rate_type'] == 'daily'), 'rate_yearly'] = 365 * loans_p2p_report['rate']"
   ]
  }
 ],
 "metadata": {
  "kernelspec": {
   "display_name": "Python 3 (ipykernel)",
   "language": "python",
   "name": "python3"
  },
  "language_info": {
   "codemirror_mode": {
    "name": "ipython",
    "version": 3
   },
   "file_extension": ".py",
   "mimetype": "text/x-python",
   "name": "python",
   "nbconvert_exporter": "python",
   "pygments_lexer": "ipython3",
   "version": "3.10.2"
  }
 },
 "nbformat": 4,
 "nbformat_minor": 5
}
